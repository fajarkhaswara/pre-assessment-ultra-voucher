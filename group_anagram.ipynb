{
 "cells": [
  {
   "cell_type": "code",
   "execution_count": 1,
   "id": "3ec94804-f2f7-4484-9835-dc96f9b7c2ce",
   "metadata": {},
   "outputs": [
    {
     "name": "stdout",
     "output_type": "stream",
     "text": [
      "[['cook'], ['save', 'aves', 'vase'], ['taste', 'state'], ['map']]\n"
     ]
    }
   ],
   "source": [
    "def group_anagrams(arr):\n",
    "    anagrams = {}\n",
    "\n",
    "    for word in arr:\n",
    "        sorted_word = ''.join(sorted(word))\n",
    "        if sorted_word in anagrams:\n",
    "            anagrams[sorted_word].append(word)\n",
    "        else:\n",
    "            anagrams[sorted_word] = [word]\n",
    "\n",
    "\n",
    "    result = []\n",
    "    for group in anagrams.values():\n",
    "        result.append(group)\n",
    "\n",
    "    return result\n",
    "\n",
    "arr = ['cook', 'save', 'taste', 'aves', 'vase', 'state', 'map']\n",
    "print(group_anagrams(arr))"
   ]
  },
  {
   "cell_type": "code",
   "execution_count": null,
   "id": "42e7820e-67f2-4117-9a03-97d1bd39eebc",
   "metadata": {},
   "outputs": [],
   "source": []
  }
 ],
 "metadata": {
  "kernelspec": {
   "display_name": "Python 3 (ipykernel)",
   "language": "python",
   "name": "python3"
  },
  "language_info": {
   "codemirror_mode": {
    "name": "ipython",
    "version": 3
   },
   "file_extension": ".py",
   "mimetype": "text/x-python",
   "name": "python",
   "nbconvert_exporter": "python",
   "pygments_lexer": "ipython3",
   "version": "3.12.0"
  }
 },
 "nbformat": 4,
 "nbformat_minor": 5
}
